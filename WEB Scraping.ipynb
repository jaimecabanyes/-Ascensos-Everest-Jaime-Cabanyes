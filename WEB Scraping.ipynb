{
 "cells": [
  {
   "cell_type": "code",
   "execution_count": 1,
   "id": "bf4b910f",
   "metadata": {},
   "outputs": [],
   "source": [
    "import requests\n",
    "from bs4 import BeautifulSoup\n",
    "import pandas as pd"
   ]
  },
  {
   "cell_type": "code",
   "execution_count": 2,
   "id": "92fc01cb",
   "metadata": {},
   "outputs": [],
   "source": [
    "url = \"https://en.wikipedia.org/wiki/List_of_Mount_Everest_death_statistics\""
   ]
  },
  {
   "cell_type": "code",
   "execution_count": 3,
   "id": "4590b04c",
   "metadata": {},
   "outputs": [],
   "source": [
    "response = requests.get(url)"
   ]
  },
  {
   "cell_type": "code",
   "execution_count": 5,
   "id": "f2da991a",
   "metadata": {},
   "outputs": [],
   "source": [
    "soup = BeautifulSoup(response.content)\n"
   ]
  },
  {
   "cell_type": "code",
   "execution_count": 6,
   "id": "d0d6bf7d",
   "metadata": {},
   "outputs": [],
   "source": [
    "a = soup.find_all(\"table\")"
   ]
  },
  {
   "cell_type": "code",
   "execution_count": 7,
   "id": "676e3b2d",
   "metadata": {},
   "outputs": [
    {
     "data": {
      "text/plain": [
       "3"
      ]
     },
     "execution_count": 7,
     "metadata": {},
     "output_type": "execute_result"
    }
   ],
   "source": [
    "len(a)"
   ]
  },
  {
   "cell_type": "markdown",
   "id": "ba9dc7ef",
   "metadata": {},
   "source": [
    "# TABLE 1"
   ]
  },
  {
   "cell_type": "code",
   "execution_count": 8,
   "id": "a301abb8",
   "metadata": {},
   "outputs": [],
   "source": [
    "table1 = a[0]"
   ]
  },
  {
   "cell_type": "code",
   "execution_count": 9,
   "id": "ae90db20",
   "metadata": {},
   "outputs": [],
   "source": [
    "tbody1 = table1.find(\"tbody\")"
   ]
  },
  {
   "cell_type": "code",
   "execution_count": 10,
   "id": "fd46c73f",
   "metadata": {},
   "outputs": [],
   "source": [
    "trs1 = tbody1.find_all(\"tr\")"
   ]
  },
  {
   "cell_type": "code",
   "execution_count": 11,
   "id": "05a4b756",
   "metadata": {},
   "outputs": [],
   "source": [
    "tr1 = trs1[1]"
   ]
  },
  {
   "cell_type": "code",
   "execution_count": 12,
   "id": "c2ddd49d",
   "metadata": {},
   "outputs": [],
   "source": [
    "cols1 = tr1.find_all(\"td\")"
   ]
  },
  {
   "cell_type": "code",
   "execution_count": 13,
   "id": "a47034b1",
   "metadata": {},
   "outputs": [
    {
     "data": {
      "text/plain": [
       "'2015 Mount Everest avalanches[27]'"
      ]
     },
     "execution_count": 13,
     "metadata": {},
     "output_type": "execute_result"
    }
   ],
   "source": [
    "cols1[2].text.strip()"
   ]
  },
  {
   "cell_type": "code",
   "execution_count": 14,
   "id": "5a865783",
   "metadata": {},
   "outputs": [],
   "source": [
    "def info_table1(row):\n",
    "    \n",
    "    info = dict()\n",
    "    \n",
    "    cols1 = row.find_all(\"td\")\n",
    "    \n",
    "    info[\"Died\"] = (cols1[0].text.strip())\n",
    "    info[\"Date\"] = int(cols1[1].text)\n",
    "    return info\n",
    "    "
   ]
  },
  {
   "cell_type": "code",
   "execution_count": 15,
   "id": "b26bfbd3",
   "metadata": {},
   "outputs": [
    {
     "name": "stdout",
     "output_type": "stream",
     "text": [
      "0\n"
     ]
    }
   ],
   "source": [
    "for i, row in enumerate(trs1):\n",
    "    try:\n",
    "        info_table1(row)\n",
    "    except:\n",
    "        print(i)"
   ]
  },
  {
   "cell_type": "code",
   "execution_count": 16,
   "id": "957c4189",
   "metadata": {},
   "outputs": [],
   "source": [
    "table1 = pd.DataFrame([info_table1(row) for row in trs1[1:]])"
   ]
  },
  {
   "cell_type": "markdown",
   "id": "b99bf822",
   "metadata": {},
   "source": [
    "# TABLE 2"
   ]
  },
  {
   "cell_type": "code",
   "execution_count": 17,
   "id": "fcb0f7f0",
   "metadata": {},
   "outputs": [],
   "source": [
    "table2 = a[1]"
   ]
  },
  {
   "cell_type": "code",
   "execution_count": 18,
   "id": "24b7c9f7",
   "metadata": {},
   "outputs": [],
   "source": [
    "tbody2 = table2.find(\"tbody\")"
   ]
  },
  {
   "cell_type": "code",
   "execution_count": 19,
   "id": "d0985287",
   "metadata": {},
   "outputs": [],
   "source": [
    "trs2 = tbody2.find_all(\"tr\")"
   ]
  },
  {
   "cell_type": "code",
   "execution_count": 20,
   "id": "a2474c78",
   "metadata": {},
   "outputs": [],
   "source": [
    "tr2 = trs2[1]"
   ]
  },
  {
   "cell_type": "code",
   "execution_count": 21,
   "id": "07c6d149",
   "metadata": {},
   "outputs": [],
   "source": [
    "cols2 = tr2.find_all(\"td\")"
   ]
  },
  {
   "cell_type": "code",
   "execution_count": 22,
   "id": "aa78456e",
   "metadata": {},
   "outputs": [
    {
     "data": {
      "text/plain": [
       "'111'"
      ]
     },
     "execution_count": 22,
     "metadata": {},
     "output_type": "execute_result"
    }
   ],
   "source": [
    "cols2[1].text.strip()"
   ]
  },
  {
   "cell_type": "code",
   "execution_count": 23,
   "id": "fbf49b3f",
   "metadata": {},
   "outputs": [],
   "source": [
    "def info_table2(row):\n",
    "    \n",
    "    info = dict()\n",
    "    \n",
    "    cols2 = row.find_all(\"td\")\n",
    "    \n",
    "    info[\"Nationality\"] = (cols2[0].text.strip())\n",
    "    info[\"Count\"] = int(cols2[1].text)\n",
    "    return info"
   ]
  },
  {
   "cell_type": "code",
   "execution_count": 24,
   "id": "2177475a",
   "metadata": {},
   "outputs": [
    {
     "name": "stdout",
     "output_type": "stream",
     "text": [
      "0\n"
     ]
    }
   ],
   "source": [
    "for i, row in enumerate(trs2):\n",
    "    try:\n",
    "        info_table1(row)\n",
    "    except:\n",
    "        print(i)"
   ]
  },
  {
   "cell_type": "code",
   "execution_count": 25,
   "id": "1a2f64d4",
   "metadata": {},
   "outputs": [],
   "source": [
    "table2 = pd.DataFrame([info_table2(row) for row in trs2[1:]])"
   ]
  },
  {
   "cell_type": "markdown",
   "id": "d99da825",
   "metadata": {},
   "source": [
    "# TABLE 3"
   ]
  },
  {
   "cell_type": "code",
   "execution_count": 26,
   "id": "c2917d80",
   "metadata": {},
   "outputs": [],
   "source": [
    "table3 = a[2]"
   ]
  },
  {
   "cell_type": "code",
   "execution_count": 27,
   "id": "12f6e034",
   "metadata": {},
   "outputs": [],
   "source": [
    "tbody3 = table3.find(\"tbody\")"
   ]
  },
  {
   "cell_type": "code",
   "execution_count": 28,
   "id": "1ad072e9",
   "metadata": {},
   "outputs": [],
   "source": [
    "trs3 = tbody3.find_all(\"tr\")"
   ]
  },
  {
   "cell_type": "code",
   "execution_count": 29,
   "id": "22b23487",
   "metadata": {},
   "outputs": [],
   "source": [
    "tr3 = trs3[1]"
   ]
  },
  {
   "cell_type": "code",
   "execution_count": 30,
   "id": "d87464ea",
   "metadata": {},
   "outputs": [],
   "source": [
    "cols3 = tr3.find_all(\"td\")"
   ]
  },
  {
   "cell_type": "code",
   "execution_count": 31,
   "id": "fe3ca8cb",
   "metadata": {},
   "outputs": [
    {
     "data": {
      "text/plain": [
       "'68'"
      ]
     },
     "execution_count": 31,
     "metadata": {},
     "output_type": "execute_result"
    }
   ],
   "source": [
    "cols3[1].text.strip()"
   ]
  },
  {
   "cell_type": "code",
   "execution_count": 32,
   "id": "e0c22402",
   "metadata": {},
   "outputs": [],
   "source": [
    "def info_table3(row):\n",
    "    \n",
    "    info = dict()\n",
    "    \n",
    "    cols3 = row.find_all(\"td\")\n",
    "    \n",
    "    info[\"Cause\"] = (cols3[0].text.strip())\n",
    "    info[\"Count\"] = int(cols3[1].text)\n",
    "    return info"
   ]
  },
  {
   "cell_type": "code",
   "execution_count": 33,
   "id": "2bc17a2e",
   "metadata": {},
   "outputs": [
    {
     "name": "stdout",
     "output_type": "stream",
     "text": [
      "0\n"
     ]
    }
   ],
   "source": [
    "for i, row in enumerate(trs3):\n",
    "    try:\n",
    "        info_table1(row)\n",
    "    except:\n",
    "        print(i)"
   ]
  },
  {
   "cell_type": "code",
   "execution_count": 34,
   "id": "75854ec2",
   "metadata": {},
   "outputs": [],
   "source": [
    "table3 = pd.DataFrame([info_table3(row) for row in trs2[1:]])"
   ]
  },
  {
   "cell_type": "code",
   "execution_count": 35,
   "id": "e643903f",
   "metadata": {},
   "outputs": [
    {
     "data": {
      "text/html": [
       "<div>\n",
       "<style scoped>\n",
       "    .dataframe tbody tr th:only-of-type {\n",
       "        vertical-align: middle;\n",
       "    }\n",
       "\n",
       "    .dataframe tbody tr th {\n",
       "        vertical-align: top;\n",
       "    }\n",
       "\n",
       "    .dataframe thead th {\n",
       "        text-align: right;\n",
       "    }\n",
       "</style>\n",
       "<table border=\"1\" class=\"dataframe\">\n",
       "  <thead>\n",
       "    <tr style=\"text-align: right;\">\n",
       "      <th></th>\n",
       "      <th>Died</th>\n",
       "      <th>Date</th>\n",
       "    </tr>\n",
       "  </thead>\n",
       "  <tbody>\n",
       "    <tr>\n",
       "      <th>0</th>\n",
       "      <td>18–22</td>\n",
       "      <td>2015</td>\n",
       "    </tr>\n",
       "    <tr>\n",
       "      <th>1</th>\n",
       "      <td>16</td>\n",
       "      <td>2014</td>\n",
       "    </tr>\n",
       "    <tr>\n",
       "      <th>2</th>\n",
       "      <td>8–12</td>\n",
       "      <td>1996</td>\n",
       "    </tr>\n",
       "    <tr>\n",
       "      <th>3</th>\n",
       "      <td>6</td>\n",
       "      <td>1974</td>\n",
       "    </tr>\n",
       "    <tr>\n",
       "      <th>4</th>\n",
       "      <td>6</td>\n",
       "      <td>1970</td>\n",
       "    </tr>\n",
       "  </tbody>\n",
       "</table>\n",
       "</div>"
      ],
      "text/plain": [
       "    Died  Date\n",
       "0  18–22  2015\n",
       "1     16  2014\n",
       "2   8–12  1996\n",
       "3      6  1974\n",
       "4      6  1970"
      ]
     },
     "execution_count": 35,
     "metadata": {},
     "output_type": "execute_result"
    }
   ],
   "source": [
    "table1\n"
   ]
  },
  {
   "cell_type": "code",
   "execution_count": 36,
   "id": "1a99e674",
   "metadata": {},
   "outputs": [
    {
     "data": {
      "text/html": [
       "<div>\n",
       "<style scoped>\n",
       "    .dataframe tbody tr th:only-of-type {\n",
       "        vertical-align: middle;\n",
       "    }\n",
       "\n",
       "    .dataframe tbody tr th {\n",
       "        vertical-align: top;\n",
       "    }\n",
       "\n",
       "    .dataframe thead th {\n",
       "        text-align: right;\n",
       "    }\n",
       "</style>\n",
       "<table border=\"1\" class=\"dataframe\">\n",
       "  <thead>\n",
       "    <tr style=\"text-align: right;\">\n",
       "      <th></th>\n",
       "      <th>Nationality</th>\n",
       "      <th>Count</th>\n",
       "    </tr>\n",
       "  </thead>\n",
       "  <tbody>\n",
       "    <tr>\n",
       "      <th>0</th>\n",
       "      <td>Nepal</td>\n",
       "      <td>111</td>\n",
       "    </tr>\n",
       "    <tr>\n",
       "      <th>1</th>\n",
       "      <td>India</td>\n",
       "      <td>19</td>\n",
       "    </tr>\n",
       "    <tr>\n",
       "      <th>2</th>\n",
       "      <td>Japan</td>\n",
       "      <td>19</td>\n",
       "    </tr>\n",
       "    <tr>\n",
       "      <th>3</th>\n",
       "      <td>United Kingdom</td>\n",
       "      <td>17</td>\n",
       "    </tr>\n",
       "    <tr>\n",
       "      <th>4</th>\n",
       "      <td>United States</td>\n",
       "      <td>15</td>\n",
       "    </tr>\n",
       "    <tr>\n",
       "      <th>5</th>\n",
       "      <td>China</td>\n",
       "      <td>12</td>\n",
       "    </tr>\n",
       "    <tr>\n",
       "      <th>6</th>\n",
       "      <td>South Korea</td>\n",
       "      <td>11</td>\n",
       "    </tr>\n",
       "    <tr>\n",
       "      <th>7</th>\n",
       "      <td>Australia</td>\n",
       "      <td>7</td>\n",
       "    </tr>\n",
       "    <tr>\n",
       "      <th>8</th>\n",
       "      <td>Germany</td>\n",
       "      <td>7</td>\n",
       "    </tr>\n",
       "    <tr>\n",
       "      <th>9</th>\n",
       "      <td>Poland</td>\n",
       "      <td>7</td>\n",
       "    </tr>\n",
       "    <tr>\n",
       "      <th>10</th>\n",
       "      <td>Russia</td>\n",
       "      <td>7</td>\n",
       "    </tr>\n",
       "    <tr>\n",
       "      <th>11</th>\n",
       "      <td>Canada</td>\n",
       "      <td>6</td>\n",
       "    </tr>\n",
       "    <tr>\n",
       "      <th>12</th>\n",
       "      <td>France</td>\n",
       "      <td>6</td>\n",
       "    </tr>\n",
       "    <tr>\n",
       "      <th>13</th>\n",
       "      <td>Czechoslovakia</td>\n",
       "      <td>5</td>\n",
       "    </tr>\n",
       "    <tr>\n",
       "      <th>14</th>\n",
       "      <td>Spain</td>\n",
       "      <td>4</td>\n",
       "    </tr>\n",
       "    <tr>\n",
       "      <th>15</th>\n",
       "      <td>Bulgaria</td>\n",
       "      <td>3</td>\n",
       "    </tr>\n",
       "    <tr>\n",
       "      <th>16</th>\n",
       "      <td>Ireland</td>\n",
       "      <td>3</td>\n",
       "    </tr>\n",
       "    <tr>\n",
       "      <th>17</th>\n",
       "      <td>Italy</td>\n",
       "      <td>3</td>\n",
       "    </tr>\n",
       "    <tr>\n",
       "      <th>18</th>\n",
       "      <td>New Zealand</td>\n",
       "      <td>3</td>\n",
       "    </tr>\n",
       "    <tr>\n",
       "      <th>19</th>\n",
       "      <td>Switzerland</td>\n",
       "      <td>3</td>\n",
       "    </tr>\n",
       "    <tr>\n",
       "      <th>20</th>\n",
       "      <td>Austria</td>\n",
       "      <td>2</td>\n",
       "    </tr>\n",
       "    <tr>\n",
       "      <th>21</th>\n",
       "      <td>Czech Republic</td>\n",
       "      <td>2</td>\n",
       "    </tr>\n",
       "    <tr>\n",
       "      <th>22</th>\n",
       "      <td>Denmark</td>\n",
       "      <td>2</td>\n",
       "    </tr>\n",
       "    <tr>\n",
       "      <th>23</th>\n",
       "      <td>Hungary</td>\n",
       "      <td>2</td>\n",
       "    </tr>\n",
       "    <tr>\n",
       "      <th>24</th>\n",
       "      <td>Slovenia</td>\n",
       "      <td>2</td>\n",
       "    </tr>\n",
       "    <tr>\n",
       "      <th>25</th>\n",
       "      <td>Taiwan</td>\n",
       "      <td>2</td>\n",
       "    </tr>\n",
       "    <tr>\n",
       "      <th>26</th>\n",
       "      <td>Yugoslavia/ FR Yugoslavia</td>\n",
       "      <td>2</td>\n",
       "    </tr>\n",
       "    <tr>\n",
       "      <th>27</th>\n",
       "      <td>Other/Unknown</td>\n",
       "      <td>13</td>\n",
       "    </tr>\n",
       "  </tbody>\n",
       "</table>\n",
       "</div>"
      ],
      "text/plain": [
       "                  Nationality  Count\n",
       "0                       Nepal    111\n",
       "1                       India     19\n",
       "2                       Japan     19\n",
       "3              United Kingdom     17\n",
       "4               United States     15\n",
       "5                       China     12\n",
       "6                 South Korea     11\n",
       "7                   Australia      7\n",
       "8                     Germany      7\n",
       "9                      Poland      7\n",
       "10                     Russia      7\n",
       "11                     Canada      6\n",
       "12                     France      6\n",
       "13             Czechoslovakia      5\n",
       "14                      Spain      4\n",
       "15                   Bulgaria      3\n",
       "16                    Ireland      3\n",
       "17                      Italy      3\n",
       "18                New Zealand      3\n",
       "19                Switzerland      3\n",
       "20                    Austria      2\n",
       "21             Czech Republic      2\n",
       "22                    Denmark      2\n",
       "23                    Hungary      2\n",
       "24                   Slovenia      2\n",
       "25                     Taiwan      2\n",
       "26  Yugoslavia/ FR Yugoslavia      2\n",
       "27              Other/Unknown     13"
      ]
     },
     "execution_count": 36,
     "metadata": {},
     "output_type": "execute_result"
    }
   ],
   "source": [
    "table2"
   ]
  },
  {
   "cell_type": "code",
   "execution_count": 37,
   "id": "b6d7059d",
   "metadata": {},
   "outputs": [
    {
     "data": {
      "text/html": [
       "<div>\n",
       "<style scoped>\n",
       "    .dataframe tbody tr th:only-of-type {\n",
       "        vertical-align: middle;\n",
       "    }\n",
       "\n",
       "    .dataframe tbody tr th {\n",
       "        vertical-align: top;\n",
       "    }\n",
       "\n",
       "    .dataframe thead th {\n",
       "        text-align: right;\n",
       "    }\n",
       "</style>\n",
       "<table border=\"1\" class=\"dataframe\">\n",
       "  <thead>\n",
       "    <tr style=\"text-align: right;\">\n",
       "      <th></th>\n",
       "      <th>Nationality</th>\n",
       "      <th>Count</th>\n",
       "    </tr>\n",
       "  </thead>\n",
       "  <tbody>\n",
       "    <tr>\n",
       "      <th>0</th>\n",
       "      <td>Nepal</td>\n",
       "      <td>111</td>\n",
       "    </tr>\n",
       "    <tr>\n",
       "      <th>1</th>\n",
       "      <td>India</td>\n",
       "      <td>19</td>\n",
       "    </tr>\n",
       "    <tr>\n",
       "      <th>2</th>\n",
       "      <td>Japan</td>\n",
       "      <td>19</td>\n",
       "    </tr>\n",
       "    <tr>\n",
       "      <th>3</th>\n",
       "      <td>United Kingdom</td>\n",
       "      <td>17</td>\n",
       "    </tr>\n",
       "    <tr>\n",
       "      <th>4</th>\n",
       "      <td>United States</td>\n",
       "      <td>15</td>\n",
       "    </tr>\n",
       "    <tr>\n",
       "      <th>5</th>\n",
       "      <td>China</td>\n",
       "      <td>12</td>\n",
       "    </tr>\n",
       "    <tr>\n",
       "      <th>6</th>\n",
       "      <td>South Korea</td>\n",
       "      <td>11</td>\n",
       "    </tr>\n",
       "    <tr>\n",
       "      <th>7</th>\n",
       "      <td>Australia</td>\n",
       "      <td>7</td>\n",
       "    </tr>\n",
       "    <tr>\n",
       "      <th>8</th>\n",
       "      <td>Germany</td>\n",
       "      <td>7</td>\n",
       "    </tr>\n",
       "    <tr>\n",
       "      <th>9</th>\n",
       "      <td>Poland</td>\n",
       "      <td>7</td>\n",
       "    </tr>\n",
       "    <tr>\n",
       "      <th>10</th>\n",
       "      <td>Russia</td>\n",
       "      <td>7</td>\n",
       "    </tr>\n",
       "    <tr>\n",
       "      <th>11</th>\n",
       "      <td>Canada</td>\n",
       "      <td>6</td>\n",
       "    </tr>\n",
       "    <tr>\n",
       "      <th>12</th>\n",
       "      <td>France</td>\n",
       "      <td>6</td>\n",
       "    </tr>\n",
       "    <tr>\n",
       "      <th>13</th>\n",
       "      <td>Czechoslovakia</td>\n",
       "      <td>5</td>\n",
       "    </tr>\n",
       "    <tr>\n",
       "      <th>14</th>\n",
       "      <td>Spain</td>\n",
       "      <td>4</td>\n",
       "    </tr>\n",
       "    <tr>\n",
       "      <th>15</th>\n",
       "      <td>Bulgaria</td>\n",
       "      <td>3</td>\n",
       "    </tr>\n",
       "    <tr>\n",
       "      <th>16</th>\n",
       "      <td>Ireland</td>\n",
       "      <td>3</td>\n",
       "    </tr>\n",
       "    <tr>\n",
       "      <th>17</th>\n",
       "      <td>Italy</td>\n",
       "      <td>3</td>\n",
       "    </tr>\n",
       "    <tr>\n",
       "      <th>18</th>\n",
       "      <td>New Zealand</td>\n",
       "      <td>3</td>\n",
       "    </tr>\n",
       "    <tr>\n",
       "      <th>19</th>\n",
       "      <td>Switzerland</td>\n",
       "      <td>3</td>\n",
       "    </tr>\n",
       "    <tr>\n",
       "      <th>20</th>\n",
       "      <td>Austria</td>\n",
       "      <td>2</td>\n",
       "    </tr>\n",
       "    <tr>\n",
       "      <th>21</th>\n",
       "      <td>Czech Republic</td>\n",
       "      <td>2</td>\n",
       "    </tr>\n",
       "    <tr>\n",
       "      <th>22</th>\n",
       "      <td>Denmark</td>\n",
       "      <td>2</td>\n",
       "    </tr>\n",
       "    <tr>\n",
       "      <th>23</th>\n",
       "      <td>Hungary</td>\n",
       "      <td>2</td>\n",
       "    </tr>\n",
       "    <tr>\n",
       "      <th>24</th>\n",
       "      <td>Slovenia</td>\n",
       "      <td>2</td>\n",
       "    </tr>\n",
       "    <tr>\n",
       "      <th>25</th>\n",
       "      <td>Taiwan</td>\n",
       "      <td>2</td>\n",
       "    </tr>\n",
       "    <tr>\n",
       "      <th>26</th>\n",
       "      <td>Yugoslavia/ FR Yugoslavia</td>\n",
       "      <td>2</td>\n",
       "    </tr>\n",
       "    <tr>\n",
       "      <th>27</th>\n",
       "      <td>Other/Unknown</td>\n",
       "      <td>13</td>\n",
       "    </tr>\n",
       "  </tbody>\n",
       "</table>\n",
       "</div>"
      ],
      "text/plain": [
       "                  Nationality  Count\n",
       "0                       Nepal    111\n",
       "1                       India     19\n",
       "2                       Japan     19\n",
       "3              United Kingdom     17\n",
       "4               United States     15\n",
       "5                       China     12\n",
       "6                 South Korea     11\n",
       "7                   Australia      7\n",
       "8                     Germany      7\n",
       "9                      Poland      7\n",
       "10                     Russia      7\n",
       "11                     Canada      6\n",
       "12                     France      6\n",
       "13             Czechoslovakia      5\n",
       "14                      Spain      4\n",
       "15                   Bulgaria      3\n",
       "16                    Ireland      3\n",
       "17                      Italy      3\n",
       "18                New Zealand      3\n",
       "19                Switzerland      3\n",
       "20                    Austria      2\n",
       "21             Czech Republic      2\n",
       "22                    Denmark      2\n",
       "23                    Hungary      2\n",
       "24                   Slovenia      2\n",
       "25                     Taiwan      2\n",
       "26  Yugoslavia/ FR Yugoslavia      2\n",
       "27              Other/Unknown     13"
      ]
     },
     "execution_count": 37,
     "metadata": {},
     "output_type": "execute_result"
    }
   ],
   "source": [
    "table2"
   ]
  },
  {
   "cell_type": "code",
   "execution_count": null,
   "id": "29058a82",
   "metadata": {},
   "outputs": [],
   "source": []
  }
 ],
 "metadata": {
  "kernelspec": {
   "display_name": "ironhack",
   "language": "python",
   "name": "ironhack"
  },
  "language_info": {
   "codemirror_mode": {
    "name": "ipython",
    "version": 3
   },
   "file_extension": ".py",
   "mimetype": "text/x-python",
   "name": "python",
   "nbconvert_exporter": "python",
   "pygments_lexer": "ipython3",
   "version": "3.8.11"
  }
 },
 "nbformat": 4,
 "nbformat_minor": 5
}
