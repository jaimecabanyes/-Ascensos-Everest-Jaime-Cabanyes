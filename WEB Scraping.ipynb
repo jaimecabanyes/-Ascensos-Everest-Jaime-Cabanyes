{
 "cells": [
  {
   "cell_type": "code",
   "execution_count": 1,
   "id": "bf4b910f",
   "metadata": {},
   "outputs": [],
   "source": [
    "import requests\n",
    "from bs4 import BeautifulSoup\n",
    "import pandas as pd"
   ]
  },
  {
   "cell_type": "code",
   "execution_count": 2,
   "id": "92fc01cb",
   "metadata": {},
   "outputs": [],
   "source": [
    "url = \"https://en.wikipedia.org/wiki/List_of_Mount_Everest_death_statistics\""
   ]
  },
  {
   "cell_type": "code",
   "execution_count": 3,
   "id": "8c67bc5d",
   "metadata": {},
   "outputs": [],
   "source": [
    "response = requests.get(url)"
   ]
  },
  {
   "cell_type": "code",
   "execution_count": 4,
   "id": "8a0de454",
   "metadata": {},
   "outputs": [],
   "source": [
    "soup = BeautifulSoup(response.content)\n"
   ]
  },
  {
   "cell_type": "code",
   "execution_count": 5,
   "id": "424cfe21",
   "metadata": {},
   "outputs": [],
   "source": [
    "a = soup.find_all(\"table\")"
   ]
  },
  {
   "cell_type": "code",
   "execution_count": 6,
   "id": "6e3ed551",
   "metadata": {},
   "outputs": [
    {
     "data": {
      "text/plain": [
       "3"
      ]
     },
     "execution_count": 6,
     "metadata": {},
     "output_type": "execute_result"
    }
   ],
   "source": [
    "len(a)"
   ]
  },
  {
   "cell_type": "markdown",
   "id": "f475780c",
   "metadata": {},
   "source": [
    "# TABLE 1"
   ]
  },
  {
   "cell_type": "code",
   "execution_count": 7,
   "id": "0a92d2a1",
   "metadata": {},
   "outputs": [],
   "source": [
    "table1 = a[0]"
   ]
  },
  {
   "cell_type": "code",
   "execution_count": 8,
   "id": "0772f5e9",
   "metadata": {},
   "outputs": [],
   "source": [
    "tbody1 = table1.find(\"tbody\")"
   ]
  },
  {
   "cell_type": "code",
   "execution_count": 9,
   "id": "06c778cd",
   "metadata": {},
   "outputs": [],
   "source": [
    "trs1 = tbody1.find_all(\"tr\")"
   ]
  },
  {
   "cell_type": "code",
   "execution_count": 10,
   "id": "da377cbd",
   "metadata": {},
   "outputs": [],
   "source": [
    "tr1 = trs1[1]"
   ]
  },
  {
   "cell_type": "code",
   "execution_count": 11,
   "id": "94df2e60",
   "metadata": {},
   "outputs": [],
   "source": [
    "cols1 = tr1.find_all(\"td\")"
   ]
  },
  {
   "cell_type": "code",
   "execution_count": 12,
   "id": "4cca5252",
   "metadata": {},
   "outputs": [
    {
     "data": {
      "text/plain": [
       "'2015 Mount Everest avalanches[27]'"
      ]
     },
     "execution_count": 12,
     "metadata": {},
     "output_type": "execute_result"
    }
   ],
   "source": [
    "cols1[2].text.strip()"
   ]
  },
  {
   "cell_type": "code",
   "execution_count": 13,
   "id": "3df634c1",
   "metadata": {},
   "outputs": [],
   "source": [
    "def info_table1(row):\n",
    "    \n",
    "    info = dict()\n",
    "    \n",
    "    cols1 = row.find_all(\"td\")\n",
    "    \n",
    "    info[\"Died\"] = (cols1[0].text.strip())\n",
    "    info[\"Date\"] = int(cols1[1].text)\n",
    "    return info\n",
    "    "
   ]
  },
  {
   "cell_type": "code",
   "execution_count": 14,
   "id": "37dcc012",
   "metadata": {},
   "outputs": [
    {
     "name": "stdout",
     "output_type": "stream",
     "text": [
      "0\n"
     ]
    }
   ],
   "source": [
    "for i, row in enumerate(trs1):\n",
    "    try:\n",
    "        info_table1(row)\n",
    "    except:\n",
    "        print(i)"
   ]
  },
  {
   "cell_type": "code",
   "execution_count": 15,
   "id": "0afcc638",
   "metadata": {},
   "outputs": [],
   "source": [
    "table1_ = pd.DataFrame([info_table1(row) for row in trs1[1:]])"
   ]
  },
  {
   "cell_type": "markdown",
   "id": "bfde30e2",
   "metadata": {},
   "source": [
    "# TABLE 2"
   ]
  },
  {
   "cell_type": "code",
   "execution_count": 16,
   "id": "61f1969a",
   "metadata": {},
   "outputs": [],
   "source": [
    "table2 = a[1]"
   ]
  },
  {
   "cell_type": "code",
   "execution_count": 17,
   "id": "fc3dffef",
   "metadata": {},
   "outputs": [],
   "source": [
    "tbody2 = table2.find(\"tbody\")"
   ]
  },
  {
   "cell_type": "code",
   "execution_count": 18,
   "id": "168b6343",
   "metadata": {},
   "outputs": [],
   "source": [
    "trs2 = tbody2.find_all(\"tr\")"
   ]
  },
  {
   "cell_type": "code",
   "execution_count": 19,
   "id": "6e17db5f",
   "metadata": {},
   "outputs": [],
   "source": [
    "tr2 = trs2[1]"
   ]
  },
  {
   "cell_type": "code",
   "execution_count": 20,
   "id": "1066609e",
   "metadata": {},
   "outputs": [],
   "source": [
    "cols2 = tr2.find_all(\"td\")"
   ]
  },
  {
   "cell_type": "code",
   "execution_count": 21,
   "id": "581b196d",
   "metadata": {},
   "outputs": [
    {
     "data": {
      "text/plain": [
       "'111'"
      ]
     },
     "execution_count": 21,
     "metadata": {},
     "output_type": "execute_result"
    }
   ],
   "source": [
    "cols2[1].text.strip()"
   ]
  },
  {
   "cell_type": "code",
   "execution_count": 22,
   "id": "2fe48ed1",
   "metadata": {},
   "outputs": [],
   "source": [
    "def info_table2(row):\n",
    "    \n",
    "    info = dict()\n",
    "    \n",
    "    cols2 = row.find_all(\"td\")\n",
    "    \n",
    "    info[\"Nationality\"] = (cols2[0].text.strip())\n",
    "    info[\"Count\"] = int(cols2[1].text)\n",
    "    return info"
   ]
  },
  {
   "cell_type": "code",
   "execution_count": 23,
   "id": "2be2c0c7",
   "metadata": {},
   "outputs": [
    {
     "name": "stdout",
     "output_type": "stream",
     "text": [
      "0\n"
     ]
    }
   ],
   "source": [
    "for i, row in enumerate(trs2):\n",
    "    try:\n",
    "        info_table2(row)\n",
    "    except:\n",
    "        print(i)"
   ]
  },
  {
   "cell_type": "code",
   "execution_count": 24,
   "id": "dd8dd7e0",
   "metadata": {},
   "outputs": [],
   "source": [
    "table2_ = pd.DataFrame([info_table2(row) for row in trs2[1:]])"
   ]
  },
  {
   "cell_type": "markdown",
   "id": "b0981499",
   "metadata": {},
   "source": [
    "# TABLE 3"
   ]
  },
  {
   "cell_type": "code",
   "execution_count": 25,
   "id": "cc1b1c1d",
   "metadata": {},
   "outputs": [],
   "source": [
    "table3 = a[2]"
   ]
  },
  {
   "cell_type": "code",
   "execution_count": 26,
   "id": "ac368965",
   "metadata": {},
   "outputs": [],
   "source": [
    "tbody3 = table3.find(\"tbody\")"
   ]
  },
  {
   "cell_type": "code",
   "execution_count": 27,
   "id": "f6d2ee96",
   "metadata": {},
   "outputs": [],
   "source": [
    "trs3 = tbody3.find_all(\"tr\")"
   ]
  },
  {
   "cell_type": "code",
   "execution_count": 28,
   "id": "8162b35f",
   "metadata": {},
   "outputs": [],
   "source": [
    "tr3 = trs3[1]"
   ]
  },
  {
   "cell_type": "code",
   "execution_count": 29,
   "id": "2fcf749f",
   "metadata": {},
   "outputs": [],
   "source": [
    "cols3 = tr3.find_all(\"td\")"
   ]
  },
  {
   "cell_type": "code",
   "execution_count": 30,
   "id": "c4aac511",
   "metadata": {},
   "outputs": [
    {
     "data": {
      "text/plain": [
       "'68'"
      ]
     },
     "execution_count": 30,
     "metadata": {},
     "output_type": "execute_result"
    }
   ],
   "source": [
    "cols3[1].text.strip()"
   ]
  },
  {
   "cell_type": "code",
   "execution_count": 31,
   "id": "c7227134",
   "metadata": {},
   "outputs": [],
   "source": [
    "def info_table3(row):\n",
    "    \n",
    "    info = dict()\n",
    "    \n",
    "    cols3 = row.find_all(\"td\")\n",
    "    \n",
    "    info[\"Cause\"] = (cols3[0].text.strip())\n",
    "    info[\"Count\"] = int(cols3[1].text)\n",
    "    return info"
   ]
  },
  {
   "cell_type": "code",
   "execution_count": 32,
   "id": "7979d210",
   "metadata": {},
   "outputs": [
    {
     "name": "stdout",
     "output_type": "stream",
     "text": [
      "0\n"
     ]
    }
   ],
   "source": [
    "for i, row in enumerate(trs3):\n",
    "    try:\n",
    "        info_table3(row)\n",
    "    except:\n",
    "        print(i)"
   ]
  },
  {
   "cell_type": "code",
   "execution_count": 33,
   "id": "132ffdf9",
   "metadata": {},
   "outputs": [],
   "source": [
    "table3_ = pd.DataFrame([info_table3(row) for row in trs3[1:]])"
   ]
  },
  {
   "cell_type": "code",
   "execution_count": 34,
   "id": "bb646bca",
   "metadata": {},
   "outputs": [
    {
     "data": {
      "text/html": [
       "<div>\n",
       "<style scoped>\n",
       "    .dataframe tbody tr th:only-of-type {\n",
       "        vertical-align: middle;\n",
       "    }\n",
       "\n",
       "    .dataframe tbody tr th {\n",
       "        vertical-align: top;\n",
       "    }\n",
       "\n",
       "    .dataframe thead th {\n",
       "        text-align: right;\n",
       "    }\n",
       "</style>\n",
       "<table border=\"1\" class=\"dataframe\">\n",
       "  <thead>\n",
       "    <tr style=\"text-align: right;\">\n",
       "      <th></th>\n",
       "      <th>Died</th>\n",
       "      <th>Date</th>\n",
       "    </tr>\n",
       "  </thead>\n",
       "  <tbody>\n",
       "    <tr>\n",
       "      <th>0</th>\n",
       "      <td>18–22</td>\n",
       "      <td>2015</td>\n",
       "    </tr>\n",
       "    <tr>\n",
       "      <th>1</th>\n",
       "      <td>16</td>\n",
       "      <td>2014</td>\n",
       "    </tr>\n",
       "    <tr>\n",
       "      <th>2</th>\n",
       "      <td>8–12</td>\n",
       "      <td>1996</td>\n",
       "    </tr>\n",
       "    <tr>\n",
       "      <th>3</th>\n",
       "      <td>6</td>\n",
       "      <td>1974</td>\n",
       "    </tr>\n",
       "    <tr>\n",
       "      <th>4</th>\n",
       "      <td>6</td>\n",
       "      <td>1970</td>\n",
       "    </tr>\n",
       "  </tbody>\n",
       "</table>\n",
       "</div>"
      ],
      "text/plain": [
       "    Died  Date\n",
       "0  18–22  2015\n",
       "1     16  2014\n",
       "2   8–12  1996\n",
       "3      6  1974\n",
       "4      6  1970"
      ]
     },
     "execution_count": 34,
     "metadata": {},
     "output_type": "execute_result"
    }
   ],
   "source": [
    "table1_"
   ]
  },
  {
   "cell_type": "code",
   "execution_count": null,
   "id": "ece622eb",
   "metadata": {},
   "outputs": [],
   "source": []
  },
  {
   "cell_type": "code",
   "execution_count": null,
   "id": "56f5ddc5",
   "metadata": {},
   "outputs": [],
   "source": []
  },
  {
   "cell_type": "code",
   "execution_count": null,
   "id": "a4cc950d",
   "metadata": {},
   "outputs": [],
   "source": []
  }
 ],
 "metadata": {
  "kernelspec": {
   "display_name": "ironhack",
   "language": "python",
   "name": "ironhack"
  },
  "language_info": {
   "codemirror_mode": {
    "name": "ipython",
    "version": 3
   },
   "file_extension": ".py",
   "mimetype": "text/x-python",
   "name": "python",
   "nbconvert_exporter": "python",
   "pygments_lexer": "ipython3",
   "version": "3.8.11"
  }
 },
 "nbformat": 4,
 "nbformat_minor": 5
}
