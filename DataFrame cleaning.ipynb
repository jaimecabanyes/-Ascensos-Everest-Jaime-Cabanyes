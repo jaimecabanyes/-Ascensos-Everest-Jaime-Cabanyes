{
 "cells": [
  {
   "cell_type": "markdown",
   "id": "cafe64bb",
   "metadata": {},
   "source": [
    "# IMPORTAR LIBRERIAS"
   ]
  },
  {
   "cell_type": "code",
   "execution_count": 1,
   "id": "85d931f1",
   "metadata": {},
   "outputs": [],
   "source": [
    "import pandas as pd\n",
    "import matplotlib.pyplot as plt\n",
    "import seaborn as sns\n",
    "import numpy as np\n",
    "import requests\n"
   ]
  },
  {
   "cell_type": "code",
   "execution_count": 2,
   "id": "76706c45",
   "metadata": {},
   "outputs": [
    {
     "name": "stdout",
     "output_type": "stream",
     "text": [
      "DataFrame cleaning.ipynb   main.py\r\n",
      "Mt_Everest_Ascent_Data.csv \u001b[1m\u001b[36msrc\u001b[m\u001b[m\r\n",
      "README.md\r\n"
     ]
    }
   ],
   "source": [
    "!ls"
   ]
  },
  {
   "cell_type": "code",
   "execution_count": 3,
   "id": "34d5d812",
   "metadata": {},
   "outputs": [
    {
     "name": "stdout",
     "output_type": "stream",
     "text": [
      "/Users/jaimecabanyes/Desktop/IRON_HACK/Trabajos IH/W3\r\n"
     ]
    }
   ],
   "source": [
    "!pwd"
   ]
  },
  {
   "cell_type": "code",
   "execution_count": 4,
   "id": "31a776a9",
   "metadata": {},
   "outputs": [],
   "source": [
    "ascensos_everest = pd.read_csv(\"Mt_Everest_Ascent_Data.csv\")"
   ]
  },
  {
   "cell_type": "markdown",
   "id": "6b4bbb47",
   "metadata": {},
   "source": [
    "# CONOCER EL DATASET"
   ]
  },
  {
   "cell_type": "code",
   "execution_count": 5,
   "id": "829e505f",
   "metadata": {},
   "outputs": [
    {
     "data": {
      "text/html": [
       "<div>\n",
       "<style scoped>\n",
       "    .dataframe tbody tr th:only-of-type {\n",
       "        vertical-align: middle;\n",
       "    }\n",
       "\n",
       "    .dataframe tbody tr th {\n",
       "        vertical-align: top;\n",
       "    }\n",
       "\n",
       "    .dataframe thead th {\n",
       "        text-align: right;\n",
       "    }\n",
       "</style>\n",
       "<table border=\"1\" class=\"dataframe\">\n",
       "  <thead>\n",
       "    <tr style=\"text-align: right;\">\n",
       "      <th></th>\n",
       "      <th>Peak</th>\n",
       "      <th>Name</th>\n",
       "      <th>Yr/Seas</th>\n",
       "      <th>Date</th>\n",
       "      <th>Time</th>\n",
       "      <th>Citizenship</th>\n",
       "      <th>Sex</th>\n",
       "      <th>Age</th>\n",
       "      <th>Oxy</th>\n",
       "      <th>Dth</th>\n",
       "      <th>Host</th>\n",
       "    </tr>\n",
       "  </thead>\n",
       "  <tbody>\n",
       "    <tr>\n",
       "      <th>0</th>\n",
       "      <td>EVER</td>\n",
       "      <td>Tenzing Norgay</td>\n",
       "      <td>1953 Spr</td>\n",
       "      <td>29-May</td>\n",
       "      <td>11:30</td>\n",
       "      <td>India</td>\n",
       "      <td>M</td>\n",
       "      <td>39</td>\n",
       "      <td>Y</td>\n",
       "      <td>.</td>\n",
       "      <td>Nepal</td>\n",
       "    </tr>\n",
       "  </tbody>\n",
       "</table>\n",
       "</div>"
      ],
      "text/plain": [
       "  Peak             Name   Yr/Seas    Date   Time  Citizenship  Sex   Age   \\\n",
       "0  EVER  Tenzing Norgay   1953 Spr  29-May  11:30        India    M    39   \n",
       "\n",
       "  Oxy  Dth   Host   \n",
       "0    Y    .  Nepal  "
      ]
     },
     "execution_count": 5,
     "metadata": {},
     "output_type": "execute_result"
    }
   ],
   "source": [
    "ascensos_everest.head(1)"
   ]
  },
  {
   "cell_type": "code",
   "execution_count": 6,
   "id": "135ac896",
   "metadata": {},
   "outputs": [
    {
     "data": {
      "text/plain": [
       "Index(['Peak ', 'Name ', 'Yr/Seas ', 'Date ', 'Time ', 'Citizenship ', 'Sex ',\n",
       "       'Age ', 'Oxy ', 'Dth ', 'Host '],\n",
       "      dtype='object')"
      ]
     },
     "execution_count": 6,
     "metadata": {},
     "output_type": "execute_result"
    }
   ],
   "source": [
    "ascensos_everest.columns"
   ]
  },
  {
   "cell_type": "code",
   "execution_count": 7,
   "id": "03479d45",
   "metadata": {},
   "outputs": [
    {
     "data": {
      "text/plain": [
       "(10184, 11)"
      ]
     },
     "execution_count": 7,
     "metadata": {},
     "output_type": "execute_result"
    }
   ],
   "source": [
    "ascensos_everest.shape"
   ]
  },
  {
   "cell_type": "code",
   "execution_count": 8,
   "id": "2b0192ec",
   "metadata": {},
   "outputs": [
    {
     "name": "stdout",
     "output_type": "stream",
     "text": [
      "<class 'pandas.core.frame.DataFrame'>\n",
      "RangeIndex: 10184 entries, 0 to 10183\n",
      "Data columns (total 11 columns):\n",
      " #   Column        Non-Null Count  Dtype \n",
      "---  ------        --------------  ----- \n",
      " 0   Peak          10184 non-null  object\n",
      " 1   Name          10184 non-null  object\n",
      " 2   Yr/Seas       10184 non-null  object\n",
      " 3   Date          10184 non-null  object\n",
      " 4   Time          8541 non-null   object\n",
      " 5   Citizenship   10184 non-null  object\n",
      " 6   Sex           10184 non-null  object\n",
      " 7   Age           10184 non-null  int64 \n",
      " 8   Oxy           10184 non-null  object\n",
      " 9   Dth           10184 non-null  object\n",
      " 10  Host          10184 non-null  object\n",
      "dtypes: int64(1), object(10)\n",
      "memory usage: 875.3+ KB\n"
     ]
    }
   ],
   "source": [
    "ascensos_everest.info()"
   ]
  },
  {
   "cell_type": "code",
   "execution_count": 9,
   "id": "b18f8495",
   "metadata": {},
   "outputs": [
    {
     "data": {
      "text/plain": [
       "Peak               0\n",
       "Name               0\n",
       "Yr/Seas            0\n",
       "Date               0\n",
       "Time            1643\n",
       "Citizenship        0\n",
       "Sex                0\n",
       "Age                0\n",
       "Oxy                0\n",
       "Dth                0\n",
       "Host               0\n",
       "dtype: int64"
      ]
     },
     "execution_count": 9,
     "metadata": {},
     "output_type": "execute_result"
    }
   ],
   "source": [
    "ascensos_everest.isna().sum()"
   ]
  },
  {
   "cell_type": "markdown",
   "id": "e6899a98",
   "metadata": {},
   "source": [
    "# MANIPULAR EL DATASET"
   ]
  },
  {
   "cell_type": "code",
   "execution_count": 10,
   "id": "d5d68ee4",
   "metadata": {},
   "outputs": [
    {
     "data": {
      "text/plain": [
       "Index(['Peak ', 'Name ', 'Yr/Seas ', 'Date ', 'Time ', 'Citizenship ', 'Sex ',\n",
       "       'Age ', 'Oxy ', 'Dth ', 'Host '],\n",
       "      dtype='object')"
      ]
     },
     "execution_count": 10,
     "metadata": {},
     "output_type": "execute_result"
    }
   ],
   "source": [
    "ascensos_everest.columns"
   ]
  },
  {
   "cell_type": "code",
   "execution_count": 11,
   "id": "d4a28e8a",
   "metadata": {},
   "outputs": [],
   "source": [
    "ascensos_everest.columns = [col.strip().replace(\" \", \"_\") for col in ascensos_everest.columns]\n",
    "#Con el strip, quito los espacios del final/principio y con el replace reemplazo los espacios del centro por barrasbajas."
   ]
  },
  {
   "cell_type": "code",
   "execution_count": 12,
   "id": "f7771d33",
   "metadata": {
    "scrolled": true
   },
   "outputs": [
    {
     "data": {
      "text/plain": [
       "Index(['Peak', 'Name', 'Yr/Seas', 'Date', 'Time', 'Citizenship', 'Sex', 'Age',\n",
       "       'Oxy', 'Dth', 'Host'],\n",
       "      dtype='object')"
      ]
     },
     "execution_count": 12,
     "metadata": {},
     "output_type": "execute_result"
    }
   ],
   "source": [
    "ascensos_everest.columns"
   ]
  },
  {
   "cell_type": "code",
   "execution_count": 13,
   "id": "15dc4e98",
   "metadata": {},
   "outputs": [],
   "source": [
    "def separación_year(year_season):\n",
    "    return year_season.split()[0]   "
   ]
  },
  {
   "cell_type": "code",
   "execution_count": 14,
   "id": "5b7ac0cb",
   "metadata": {},
   "outputs": [],
   "source": [
    "ascensos_everest[\"Year\"] = ascensos_everest[\"Yr/Seas\"].apply(separación_year)"
   ]
  },
  {
   "cell_type": "code",
   "execution_count": 15,
   "id": "7746e2bc",
   "metadata": {},
   "outputs": [],
   "source": [
    "def separación_season(year_season):\n",
    "    return year_season.split()[1]   "
   ]
  },
  {
   "cell_type": "code",
   "execution_count": 16,
   "id": "4e19eecd",
   "metadata": {},
   "outputs": [],
   "source": [
    "ascensos_everest[\"Season\"] = ascensos_everest[\"Yr/Seas\"].apply(separación_season)"
   ]
  },
  {
   "cell_type": "code",
   "execution_count": 17,
   "id": "431a0ad2",
   "metadata": {},
   "outputs": [
    {
     "data": {
      "text/html": [
       "<div>\n",
       "<style scoped>\n",
       "    .dataframe tbody tr th:only-of-type {\n",
       "        vertical-align: middle;\n",
       "    }\n",
       "\n",
       "    .dataframe tbody tr th {\n",
       "        vertical-align: top;\n",
       "    }\n",
       "\n",
       "    .dataframe thead th {\n",
       "        text-align: right;\n",
       "    }\n",
       "</style>\n",
       "<table border=\"1\" class=\"dataframe\">\n",
       "  <thead>\n",
       "    <tr style=\"text-align: right;\">\n",
       "      <th></th>\n",
       "      <th>Peak</th>\n",
       "      <th>Name</th>\n",
       "      <th>Yr/Seas</th>\n",
       "      <th>Date</th>\n",
       "      <th>Time</th>\n",
       "      <th>Citizenship</th>\n",
       "      <th>Sex</th>\n",
       "      <th>Age</th>\n",
       "      <th>Oxy</th>\n",
       "      <th>Dth</th>\n",
       "      <th>Host</th>\n",
       "      <th>Year</th>\n",
       "      <th>Season</th>\n",
       "    </tr>\n",
       "  </thead>\n",
       "  <tbody>\n",
       "    <tr>\n",
       "      <th>0</th>\n",
       "      <td>EVER</td>\n",
       "      <td>Tenzing Norgay</td>\n",
       "      <td>1953 Spr</td>\n",
       "      <td>29-May</td>\n",
       "      <td>11:30</td>\n",
       "      <td>India</td>\n",
       "      <td>M</td>\n",
       "      <td>39</td>\n",
       "      <td>Y</td>\n",
       "      <td>.</td>\n",
       "      <td>Nepal</td>\n",
       "      <td>1953</td>\n",
       "      <td>Spr</td>\n",
       "    </tr>\n",
       "  </tbody>\n",
       "</table>\n",
       "</div>"
      ],
      "text/plain": [
       "   Peak             Name   Yr/Seas    Date   Time Citizenship Sex  Age Oxy  \\\n",
       "0  EVER  Tenzing Norgay   1953 Spr  29-May  11:30       India   M   39   Y   \n",
       "\n",
       "  Dth   Host  Year Season  \n",
       "0   .  Nepal  1953    Spr  "
      ]
     },
     "execution_count": 17,
     "metadata": {},
     "output_type": "execute_result"
    }
   ],
   "source": [
    "ascensos_everest.head(1)"
   ]
  },
  {
   "cell_type": "code",
   "execution_count": 18,
   "id": "2218f1dd",
   "metadata": {},
   "outputs": [
    {
     "data": {
      "text/html": [
       "<div>\n",
       "<style scoped>\n",
       "    .dataframe tbody tr th:only-of-type {\n",
       "        vertical-align: middle;\n",
       "    }\n",
       "\n",
       "    .dataframe tbody tr th {\n",
       "        vertical-align: top;\n",
       "    }\n",
       "\n",
       "    .dataframe thead th {\n",
       "        text-align: right;\n",
       "    }\n",
       "</style>\n",
       "<table border=\"1\" class=\"dataframe\">\n",
       "  <thead>\n",
       "    <tr style=\"text-align: right;\">\n",
       "      <th></th>\n",
       "      <th>Peak</th>\n",
       "      <th>Name</th>\n",
       "      <th>Yr/Seas</th>\n",
       "      <th>Date</th>\n",
       "      <th>Time</th>\n",
       "      <th>Citizenship</th>\n",
       "      <th>Sex</th>\n",
       "      <th>Age</th>\n",
       "      <th>Oxy</th>\n",
       "      <th>Dth</th>\n",
       "      <th>Host</th>\n",
       "      <th>Year</th>\n",
       "      <th>Season</th>\n",
       "    </tr>\n",
       "  </thead>\n",
       "  <tbody>\n",
       "    <tr>\n",
       "      <th>0</th>\n",
       "      <td>EVER</td>\n",
       "      <td>Tenzing Norgay</td>\n",
       "      <td>1953 Spr</td>\n",
       "      <td>29-May</td>\n",
       "      <td>11:30</td>\n",
       "      <td>India</td>\n",
       "      <td>M</td>\n",
       "      <td>39</td>\n",
       "      <td>Y</td>\n",
       "      <td>.</td>\n",
       "      <td>Nepal</td>\n",
       "      <td>1953</td>\n",
       "      <td>Spr</td>\n",
       "    </tr>\n",
       "  </tbody>\n",
       "</table>\n",
       "</div>"
      ],
      "text/plain": [
       "   Peak             Name   Yr/Seas    Date   Time Citizenship Sex  Age Oxy  \\\n",
       "0  EVER  Tenzing Norgay   1953 Spr  29-May  11:30       India   M   39   Y   \n",
       "\n",
       "  Dth   Host  Year Season  \n",
       "0   .  Nepal  1953    Spr  "
      ]
     },
     "execution_count": 18,
     "metadata": {},
     "output_type": "execute_result"
    }
   ],
   "source": [
    "ascensos_everest.head(1)"
   ]
  },
  {
   "cell_type": "code",
   "execution_count": 19,
   "id": "f9402ad1",
   "metadata": {},
   "outputs": [
    {
     "data": {
      "text/plain": [
       "array(['Nepal', 'China'], dtype=object)"
      ]
     },
     "execution_count": 19,
     "metadata": {},
     "output_type": "execute_result"
    }
   ],
   "source": [
    "ascensos_everest.Host.unique()"
   ]
  },
  {
   "cell_type": "code",
   "execution_count": 20,
   "id": "5c47e63f",
   "metadata": {},
   "outputs": [],
   "source": [
    "def separación_Date(day_month):\n",
    "        return day_month.split(\"-\")[1]"
   ]
  },
  {
   "cell_type": "code",
   "execution_count": 21,
   "id": "9d0a9a50",
   "metadata": {},
   "outputs": [],
   "source": [
    "ascensos_everest[\"Month\"] = ascensos_everest.Date.apply(separación_Date)"
   ]
  },
  {
   "cell_type": "code",
   "execution_count": 22,
   "id": "f141306c",
   "metadata": {},
   "outputs": [],
   "source": [
    "def separación_Date1(day_month):\n",
    "        return day_month.split(\"-\")[0]"
   ]
  },
  {
   "cell_type": "code",
   "execution_count": 23,
   "id": "ed993b71",
   "metadata": {},
   "outputs": [],
   "source": [
    "ascensos_everest[\"Day\"] = ascensos_everest.Date.apply(separación_Date1)"
   ]
  },
  {
   "cell_type": "code",
   "execution_count": 24,
   "id": "37950711",
   "metadata": {},
   "outputs": [
    {
     "data": {
      "text/html": [
       "<div>\n",
       "<style scoped>\n",
       "    .dataframe tbody tr th:only-of-type {\n",
       "        vertical-align: middle;\n",
       "    }\n",
       "\n",
       "    .dataframe tbody tr th {\n",
       "        vertical-align: top;\n",
       "    }\n",
       "\n",
       "    .dataframe thead th {\n",
       "        text-align: right;\n",
       "    }\n",
       "</style>\n",
       "<table border=\"1\" class=\"dataframe\">\n",
       "  <thead>\n",
       "    <tr style=\"text-align: right;\">\n",
       "      <th></th>\n",
       "      <th>Peak</th>\n",
       "      <th>Name</th>\n",
       "      <th>Yr/Seas</th>\n",
       "      <th>Date</th>\n",
       "      <th>Time</th>\n",
       "      <th>Citizenship</th>\n",
       "      <th>Sex</th>\n",
       "      <th>Age</th>\n",
       "      <th>Oxy</th>\n",
       "      <th>Dth</th>\n",
       "      <th>Host</th>\n",
       "      <th>Year</th>\n",
       "      <th>Season</th>\n",
       "      <th>Month</th>\n",
       "      <th>Day</th>\n",
       "    </tr>\n",
       "  </thead>\n",
       "  <tbody>\n",
       "    <tr>\n",
       "      <th>0</th>\n",
       "      <td>EVER</td>\n",
       "      <td>Tenzing Norgay</td>\n",
       "      <td>1953 Spr</td>\n",
       "      <td>29-May</td>\n",
       "      <td>11:30</td>\n",
       "      <td>India</td>\n",
       "      <td>M</td>\n",
       "      <td>39</td>\n",
       "      <td>Y</td>\n",
       "      <td>.</td>\n",
       "      <td>Nepal</td>\n",
       "      <td>1953</td>\n",
       "      <td>Spr</td>\n",
       "      <td>May</td>\n",
       "      <td>29</td>\n",
       "    </tr>\n",
       "  </tbody>\n",
       "</table>\n",
       "</div>"
      ],
      "text/plain": [
       "   Peak             Name   Yr/Seas    Date   Time Citizenship Sex  Age Oxy  \\\n",
       "0  EVER  Tenzing Norgay   1953 Spr  29-May  11:30       India   M   39   Y   \n",
       "\n",
       "  Dth   Host  Year Season Month Day  \n",
       "0   .  Nepal  1953    Spr   May  29  "
      ]
     },
     "execution_count": 24,
     "metadata": {},
     "output_type": "execute_result"
    }
   ],
   "source": [
    "ascensos_everest.head(1)"
   ]
  },
  {
   "cell_type": "code",
   "execution_count": 25,
   "id": "74fa26a3",
   "metadata": {},
   "outputs": [],
   "source": [
    "ascensos_everest.Time = ascensos_everest.Time.astype(str)"
   ]
  },
  {
   "cell_type": "code",
   "execution_count": 26,
   "id": "13dc4bf2",
   "metadata": {},
   "outputs": [
    {
     "data": {
      "text/plain": [
       "Index(['Peak', 'Name', 'Yr/Seas', 'Date', 'Time', 'Citizenship', 'Sex', 'Age',\n",
       "       'Oxy', 'Dth', 'Host', 'Year', 'Season', 'Month', 'Day'],\n",
       "      dtype='object')"
      ]
     },
     "execution_count": 26,
     "metadata": {},
     "output_type": "execute_result"
    }
   ],
   "source": [
    "ascensos_everest.columns"
   ]
  },
  {
   "cell_type": "code",
   "execution_count": 27,
   "id": "957859d3",
   "metadata": {},
   "outputs": [],
   "source": [
    "ascensos_everest = ascensos_everest[['Peak', 'Name', 'Citizenship', 'Sex', 'Age',\n",
    "       'Oxy', 'Dth', 'Host', 'Year', 'Season', 'Month', 'Day','Time']]"
   ]
  },
  {
   "cell_type": "code",
   "execution_count": 28,
   "id": "ca4784d1",
   "metadata": {},
   "outputs": [
    {
     "data": {
      "text/html": [
       "<div>\n",
       "<style scoped>\n",
       "    .dataframe tbody tr th:only-of-type {\n",
       "        vertical-align: middle;\n",
       "    }\n",
       "\n",
       "    .dataframe tbody tr th {\n",
       "        vertical-align: top;\n",
       "    }\n",
       "\n",
       "    .dataframe thead th {\n",
       "        text-align: right;\n",
       "    }\n",
       "</style>\n",
       "<table border=\"1\" class=\"dataframe\">\n",
       "  <thead>\n",
       "    <tr style=\"text-align: right;\">\n",
       "      <th></th>\n",
       "      <th>Peak</th>\n",
       "      <th>Name</th>\n",
       "      <th>Citizenship</th>\n",
       "      <th>Sex</th>\n",
       "      <th>Age</th>\n",
       "      <th>Oxy</th>\n",
       "      <th>Dth</th>\n",
       "      <th>Host</th>\n",
       "      <th>Year</th>\n",
       "      <th>Season</th>\n",
       "      <th>Month</th>\n",
       "      <th>Day</th>\n",
       "      <th>Time</th>\n",
       "    </tr>\n",
       "  </thead>\n",
       "  <tbody>\n",
       "    <tr>\n",
       "      <th>0</th>\n",
       "      <td>EVER</td>\n",
       "      <td>Tenzing Norgay</td>\n",
       "      <td>India</td>\n",
       "      <td>M</td>\n",
       "      <td>39</td>\n",
       "      <td>Y</td>\n",
       "      <td>.</td>\n",
       "      <td>Nepal</td>\n",
       "      <td>1953</td>\n",
       "      <td>Spr</td>\n",
       "      <td>May</td>\n",
       "      <td>29</td>\n",
       "      <td>11:30</td>\n",
       "    </tr>\n",
       "  </tbody>\n",
       "</table>\n",
       "</div>"
      ],
      "text/plain": [
       "   Peak             Name Citizenship Sex  Age Oxy Dth   Host  Year Season  \\\n",
       "0  EVER  Tenzing Norgay        India   M   39   Y   .  Nepal  1953    Spr   \n",
       "\n",
       "  Month Day   Time  \n",
       "0   May  29  11:30  "
      ]
     },
     "execution_count": 28,
     "metadata": {},
     "output_type": "execute_result"
    }
   ],
   "source": [
    "ascensos_everest.head(1)"
   ]
  },
  {
   "cell_type": "code",
   "execution_count": 29,
   "id": "a9e8ddbb",
   "metadata": {
    "scrolled": true
   },
   "outputs": [],
   "source": [
    "ascensos_everest.Oxy = ascensos_everest['Oxy'].replace('Y','Yes')"
   ]
  },
  {
   "cell_type": "code",
   "execution_count": 30,
   "id": "ece57b3b",
   "metadata": {},
   "outputs": [],
   "source": [
    "ascensos_everest.Dth = ascensos_everest['Dth'].replace('.','No')"
   ]
  },
  {
   "cell_type": "code",
   "execution_count": 31,
   "id": "15c58429",
   "metadata": {},
   "outputs": [],
   "source": [
    "ascensos_everest.Dth = ascensos_everest['Dth'].replace('Y','Yes')"
   ]
  },
  {
   "cell_type": "code",
   "execution_count": 32,
   "id": "8fd96b8f",
   "metadata": {},
   "outputs": [],
   "source": [
    "ascensos_everest1 = pd.DataFrame(ascensos_everest)"
   ]
  },
  {
   "cell_type": "code",
   "execution_count": 33,
   "id": "ca08542a",
   "metadata": {},
   "outputs": [],
   "source": [
    " Deaths = ascensos_everest1.iloc[:, 6]"
   ]
  },
  {
   "cell_type": "code",
   "execution_count": 34,
   "id": "e1d2fa87",
   "metadata": {},
   "outputs": [
    {
     "data": {
      "text/plain": [
       "No     10101\n",
       "Yes       83\n",
       "Name: Dth, dtype: int64"
      ]
     },
     "execution_count": 34,
     "metadata": {},
     "output_type": "execute_result"
    }
   ],
   "source": [
    "Deaths.value_counts()"
   ]
  },
  {
   "cell_type": "code",
   "execution_count": 35,
   "id": "4186182e",
   "metadata": {},
   "outputs": [
    {
     "data": {
      "text/html": [
       "<div>\n",
       "<style scoped>\n",
       "    .dataframe tbody tr th:only-of-type {\n",
       "        vertical-align: middle;\n",
       "    }\n",
       "\n",
       "    .dataframe tbody tr th {\n",
       "        vertical-align: top;\n",
       "    }\n",
       "\n",
       "    .dataframe thead th {\n",
       "        text-align: right;\n",
       "    }\n",
       "</style>\n",
       "<table border=\"1\" class=\"dataframe\">\n",
       "  <thead>\n",
       "    <tr style=\"text-align: right;\">\n",
       "      <th></th>\n",
       "      <th>Peak</th>\n",
       "      <th>Name</th>\n",
       "      <th>Citizenship</th>\n",
       "      <th>Sex</th>\n",
       "      <th>Age</th>\n",
       "      <th>Oxy</th>\n",
       "      <th>Dth</th>\n",
       "      <th>Host</th>\n",
       "      <th>Year</th>\n",
       "      <th>Season</th>\n",
       "      <th>Month</th>\n",
       "      <th>Day</th>\n",
       "      <th>Time</th>\n",
       "    </tr>\n",
       "  </thead>\n",
       "  <tbody>\n",
       "    <tr>\n",
       "      <th>2395</th>\n",
       "      <td>EVER</td>\n",
       "      <td>Mahmoud Shoaei</td>\n",
       "      <td>Iran</td>\n",
       "      <td>M</td>\n",
       "      <td>42</td>\n",
       "      <td>Yes</td>\n",
       "      <td>No</td>\n",
       "      <td>Nepal</td>\n",
       "      <td>2005</td>\n",
       "      <td>Spr</td>\n",
       "      <td>May</td>\n",
       "      <td>30</td>\n",
       "      <td>10:25</td>\n",
       "    </tr>\n",
       "    <tr>\n",
       "      <th>1426</th>\n",
       "      <td>EVER</td>\n",
       "      <td>Lhakpa Thundu/Thudu (Tindu) Sherpa (Pangboche,...</td>\n",
       "      <td>Nepal</td>\n",
       "      <td>M</td>\n",
       "      <td>30</td>\n",
       "      <td>Yes</td>\n",
       "      <td>No</td>\n",
       "      <td>China</td>\n",
       "      <td>2001</td>\n",
       "      <td>Spr</td>\n",
       "      <td>May</td>\n",
       "      <td>23</td>\n",
       "      <td>11:30</td>\n",
       "    </tr>\n",
       "  </tbody>\n",
       "</table>\n",
       "</div>"
      ],
      "text/plain": [
       "      Peak                                               Name Citizenship Sex  \\\n",
       "2395  EVER                                     Mahmoud Shoaei        Iran   M   \n",
       "1426  EVER  Lhakpa Thundu/Thudu (Tindu) Sherpa (Pangboche,...       Nepal   M   \n",
       "\n",
       "      Age  Oxy Dth   Host  Year Season Month Day   Time  \n",
       "2395   42  Yes  No  Nepal  2005    Spr   May  30  10:25  \n",
       "1426   30  Yes  No  China  2001    Spr   May  23  11:30  "
      ]
     },
     "execution_count": 35,
     "metadata": {},
     "output_type": "execute_result"
    }
   ],
   "source": [
    "ascensos_everest1.sample(2)"
   ]
  },
  {
   "cell_type": "code",
   "execution_count": null,
   "id": "ee5b93d2",
   "metadata": {},
   "outputs": [],
   "source": []
  }
 ],
 "metadata": {
  "kernelspec": {
   "display_name": "ironhack",
   "language": "python",
   "name": "ironhack"
  },
  "language_info": {
   "codemirror_mode": {
    "name": "ipython",
    "version": 3
   },
   "file_extension": ".py",
   "mimetype": "text/x-python",
   "name": "python",
   "nbconvert_exporter": "python",
   "pygments_lexer": "ipython3",
   "version": "3.8.11"
  }
 },
 "nbformat": 4,
 "nbformat_minor": 5
}
