{
 "cells": [
  {
   "cell_type": "markdown",
   "id": "cafe64bb",
   "metadata": {},
   "source": [
    "# IMPORTAR LIBRERIAS"
   ]
  },
  {
   "cell_type": "code",
   "execution_count": null,
   "id": "2bdbdadc",
   "metadata": {},
   "outputs": [],
   "source": []
  },
  {
   "cell_type": "code",
   "execution_count": 20,
   "id": "85d931f1",
   "metadata": {},
   "outputs": [],
   "source": [
    "import pandas as pd\n",
    "import matplotlib.pyplot as plt\n",
    "import seaborn as sns\n",
    "import numpy as np\n",
    "import requests\n"
   ]
  },
  {
   "cell_type": "code",
   "execution_count": 21,
   "id": "76706c45",
   "metadata": {},
   "outputs": [
    {
     "name": "stdout",
     "output_type": "stream",
     "text": [
      "\u001b[1m\u001b[36mData\u001b[m\u001b[m                       WEB Scraping.ipynb\r\n",
      "DataFrame cleaning.ipynb   \u001b[1m\u001b[36m__pycache__\u001b[m\u001b[m\r\n",
      "Mt_Everest_Ascent_Data.csv main.py\r\n",
      "README.md                  \u001b[1m\u001b[36msrc\u001b[m\u001b[m\r\n",
      "Visualización.ipynb\r\n"
     ]
    }
   ],
   "source": [
    "!ls"
   ]
  },
  {
   "cell_type": "code",
   "execution_count": 22,
   "id": "34d5d812",
   "metadata": {},
   "outputs": [
    {
     "name": "stdout",
     "output_type": "stream",
     "text": [
      "/Users/jaimecabanyes/Desktop/IRON_HACK/Trabajos IH/W3\r\n"
     ]
    }
   ],
   "source": [
    "!pwd"
   ]
  },
  {
   "cell_type": "code",
   "execution_count": 23,
   "id": "31a776a9",
   "metadata": {},
   "outputs": [],
   "source": [
    "ascensos_everest = pd.read_csv(\"Mt_Everest_Ascent_Data.csv\")"
   ]
  },
  {
   "cell_type": "markdown",
   "id": "6b4bbb47",
   "metadata": {},
   "source": [
    "# CONOCER EL DATASET"
   ]
  },
  {
   "cell_type": "code",
   "execution_count": 24,
   "id": "5675527b",
   "metadata": {},
   "outputs": [],
   "source": [
    "def column_cleaning(df):\n",
    "    df.columns = [col.strip().replace(\" \", \"_\") for col in df.columns]\n",
    "    return df\n"
   ]
  },
  {
   "cell_type": "code",
   "execution_count": 25,
   "id": "15849fef",
   "metadata": {},
   "outputs": [],
   "source": [
    "def separación_year(year_season):\n",
    "    return year_season.split()[0]\n"
   ]
  },
  {
   "cell_type": "code",
   "execution_count": 26,
   "id": "dc940fa8",
   "metadata": {},
   "outputs": [],
   "source": [
    "def separación_season(year_season):\n",
    "    return year_season.split()[1]   \n"
   ]
  },
  {
   "cell_type": "code",
   "execution_count": 27,
   "id": "2f2edce5",
   "metadata": {},
   "outputs": [],
   "source": [
    "def separación_Date(day_month):\n",
    "        return day_month.split(\"-\")[1]"
   ]
  },
  {
   "cell_type": "code",
   "execution_count": 28,
   "id": "e44abfff",
   "metadata": {},
   "outputs": [],
   "source": [
    "def separación_Date1(day_month):\n",
    "        return day_month.split(\"-\")[0]\n"
   ]
  },
  {
   "cell_type": "code",
   "execution_count": 29,
   "id": "9cea9794",
   "metadata": {},
   "outputs": [],
   "source": [
    "def replacements(df):\n",
    "    df = df.replace('Y','Yes')\n",
    "    df.Age = df[\"Age\"].replace(0, \"NaN\")\n",
    "    df.Dth = df['Dth'].replace('.','No')\n",
    "    return df\n"
   ]
  },
  {
   "cell_type": "code",
   "execution_count": 30,
   "id": "1e23d6f3",
   "metadata": {},
   "outputs": [],
   "source": [
    "def escoger_columnas(df):\n",
    "    df = df[['Peak', 'Name', 'Citizenship', 'Sex', 'Age',\n",
    "       'Oxy', 'Dth', 'Host', 'Year', 'Season', 'Month', 'Day','Time']]\n",
    "    return df"
   ]
  },
  {
   "cell_type": "code",
   "execution_count": null,
   "id": "d00937b5",
   "metadata": {},
   "outputs": [],
   "source": []
  },
  {
   "cell_type": "code",
   "execution_count": 31,
   "id": "49183805",
   "metadata": {},
   "outputs": [],
   "source": [
    "def cleaning_dataframe(df):\n",
    "    df = column_cleaning(df)\n",
    "    df = replacements(df)\n",
    "    df[\"Season\"] = df[\"Yr/Seas\"].apply(separación_season)\n",
    "    df[\"Year\"] = df[\"Yr/Seas\"].apply(separación_year)\n",
    "    df[\"Month\"] = df.Date.apply(separación_Date)\n",
    "    df[\"Day\"] = df.Date.apply(separación_Date1)\n",
    "    df = escoger_columnas(df)\n",
    "    return df"
   ]
  },
  {
   "cell_type": "code",
   "execution_count": null,
   "id": "9efc3b9e",
   "metadata": {},
   "outputs": [],
   "source": []
  },
  {
   "cell_type": "code",
   "execution_count": 32,
   "id": "03bd7f88",
   "metadata": {},
   "outputs": [],
   "source": [
    "df_final = cleaning_dataframe(ascensos_everest)"
   ]
  },
  {
   "cell_type": "code",
   "execution_count": 33,
   "id": "901706d8",
   "metadata": {},
   "outputs": [
    {
     "data": {
      "text/html": [
       "<div>\n",
       "<style scoped>\n",
       "    .dataframe tbody tr th:only-of-type {\n",
       "        vertical-align: middle;\n",
       "    }\n",
       "\n",
       "    .dataframe tbody tr th {\n",
       "        vertical-align: top;\n",
       "    }\n",
       "\n",
       "    .dataframe thead th {\n",
       "        text-align: right;\n",
       "    }\n",
       "</style>\n",
       "<table border=\"1\" class=\"dataframe\">\n",
       "  <thead>\n",
       "    <tr style=\"text-align: right;\">\n",
       "      <th></th>\n",
       "      <th>Peak</th>\n",
       "      <th>Name</th>\n",
       "      <th>Citizenship</th>\n",
       "      <th>Sex</th>\n",
       "      <th>Age</th>\n",
       "      <th>Oxy</th>\n",
       "      <th>Dth</th>\n",
       "      <th>Host</th>\n",
       "      <th>Year</th>\n",
       "      <th>Season</th>\n",
       "      <th>Month</th>\n",
       "      <th>Day</th>\n",
       "      <th>Time</th>\n",
       "    </tr>\n",
       "  </thead>\n",
       "  <tbody>\n",
       "    <tr>\n",
       "      <th>0</th>\n",
       "      <td>EVER</td>\n",
       "      <td>Tenzing Norgay</td>\n",
       "      <td>India</td>\n",
       "      <td>M</td>\n",
       "      <td>39</td>\n",
       "      <td>Yes</td>\n",
       "      <td>No</td>\n",
       "      <td>Nepal</td>\n",
       "      <td>1953</td>\n",
       "      <td>Spr</td>\n",
       "      <td>May</td>\n",
       "      <td>29</td>\n",
       "      <td>11:30</td>\n",
       "    </tr>\n",
       "    <tr>\n",
       "      <th>1</th>\n",
       "      <td>EVER</td>\n",
       "      <td>Edmund Percival Hillary</td>\n",
       "      <td>New Zealand</td>\n",
       "      <td>M</td>\n",
       "      <td>33</td>\n",
       "      <td>Yes</td>\n",
       "      <td>No</td>\n",
       "      <td>Nepal</td>\n",
       "      <td>1953</td>\n",
       "      <td>Spr</td>\n",
       "      <td>May</td>\n",
       "      <td>29</td>\n",
       "      <td>11:30</td>\n",
       "    </tr>\n",
       "    <tr>\n",
       "      <th>2</th>\n",
       "      <td>EVER</td>\n",
       "      <td>Juerg P. Marmet</td>\n",
       "      <td>Switzerland</td>\n",
       "      <td>M</td>\n",
       "      <td>28</td>\n",
       "      <td>Yes</td>\n",
       "      <td>No</td>\n",
       "      <td>Nepal</td>\n",
       "      <td>1956</td>\n",
       "      <td>Spr</td>\n",
       "      <td>May</td>\n",
       "      <td>23</td>\n",
       "      <td>14:00</td>\n",
       "    </tr>\n",
       "    <tr>\n",
       "      <th>3</th>\n",
       "      <td>EVER</td>\n",
       "      <td>Ernst Schmied</td>\n",
       "      <td>Switzerland</td>\n",
       "      <td>M</td>\n",
       "      <td>31</td>\n",
       "      <td>Yes</td>\n",
       "      <td>No</td>\n",
       "      <td>Nepal</td>\n",
       "      <td>1956</td>\n",
       "      <td>Spr</td>\n",
       "      <td>May</td>\n",
       "      <td>23</td>\n",
       "      <td>14:00</td>\n",
       "    </tr>\n",
       "    <tr>\n",
       "      <th>4</th>\n",
       "      <td>EVER</td>\n",
       "      <td>Adolf (Dolf) Reist</td>\n",
       "      <td>Switzerland</td>\n",
       "      <td>M</td>\n",
       "      <td>35</td>\n",
       "      <td>Yes</td>\n",
       "      <td>No</td>\n",
       "      <td>Nepal</td>\n",
       "      <td>1956</td>\n",
       "      <td>Spr</td>\n",
       "      <td>May</td>\n",
       "      <td>24</td>\n",
       "      <td>11:00</td>\n",
       "    </tr>\n",
       "    <tr>\n",
       "      <th>...</th>\n",
       "      <td>...</td>\n",
       "      <td>...</td>\n",
       "      <td>...</td>\n",
       "      <td>...</td>\n",
       "      <td>...</td>\n",
       "      <td>...</td>\n",
       "      <td>...</td>\n",
       "      <td>...</td>\n",
       "      <td>...</td>\n",
       "      <td>...</td>\n",
       "      <td>...</td>\n",
       "      <td>...</td>\n",
       "      <td>...</td>\n",
       "    </tr>\n",
       "    <tr>\n",
       "      <th>10179</th>\n",
       "      <td>EVER</td>\n",
       "      <td>Xiao-Lin Li</td>\n",
       "      <td>China</td>\n",
       "      <td>M</td>\n",
       "      <td>35</td>\n",
       "      <td>Yes</td>\n",
       "      <td>No</td>\n",
       "      <td>China</td>\n",
       "      <td>2020</td>\n",
       "      <td>Spr</td>\n",
       "      <td>May</td>\n",
       "      <td>28</td>\n",
       "      <td>NaN</td>\n",
       "    </tr>\n",
       "    <tr>\n",
       "      <th>10180</th>\n",
       "      <td>EVER</td>\n",
       "      <td>Xin-Guo Li</td>\n",
       "      <td>China</td>\n",
       "      <td>M</td>\n",
       "      <td>NaN</td>\n",
       "      <td>Yes</td>\n",
       "      <td>No</td>\n",
       "      <td>China</td>\n",
       "      <td>2020</td>\n",
       "      <td>Spr</td>\n",
       "      <td>May</td>\n",
       "      <td>28</td>\n",
       "      <td>NaN</td>\n",
       "    </tr>\n",
       "    <tr>\n",
       "      <th>10181</th>\n",
       "      <td>EVER</td>\n",
       "      <td>Ping Liu</td>\n",
       "      <td>China</td>\n",
       "      <td>F</td>\n",
       "      <td>39</td>\n",
       "      <td>Yes</td>\n",
       "      <td>No</td>\n",
       "      <td>China</td>\n",
       "      <td>2020</td>\n",
       "      <td>Spr</td>\n",
       "      <td>May</td>\n",
       "      <td>28</td>\n",
       "      <td>NaN</td>\n",
       "    </tr>\n",
       "    <tr>\n",
       "      <th>10182</th>\n",
       "      <td>EVER</td>\n",
       "      <td>Ying Ma</td>\n",
       "      <td>China</td>\n",
       "      <td>F</td>\n",
       "      <td>42</td>\n",
       "      <td>Yes</td>\n",
       "      <td>No</td>\n",
       "      <td>China</td>\n",
       "      <td>2020</td>\n",
       "      <td>Spr</td>\n",
       "      <td>May</td>\n",
       "      <td>28</td>\n",
       "      <td>NaN</td>\n",
       "    </tr>\n",
       "    <tr>\n",
       "      <th>10183</th>\n",
       "      <td>EVER</td>\n",
       "      <td>Zhi-Gang Ru</td>\n",
       "      <td>China</td>\n",
       "      <td>M</td>\n",
       "      <td>35</td>\n",
       "      <td>Yes</td>\n",
       "      <td>No</td>\n",
       "      <td>China</td>\n",
       "      <td>2020</td>\n",
       "      <td>Spr</td>\n",
       "      <td>May</td>\n",
       "      <td>28</td>\n",
       "      <td>NaN</td>\n",
       "    </tr>\n",
       "  </tbody>\n",
       "</table>\n",
       "<p>10184 rows × 13 columns</p>\n",
       "</div>"
      ],
      "text/plain": [
       "       Peak                     Name  Citizenship Sex  Age  Oxy Dth   Host  \\\n",
       "0      EVER          Tenzing Norgay         India   M   39  Yes  No  Nepal   \n",
       "1      EVER  Edmund Percival Hillary  New Zealand   M   33  Yes  No  Nepal   \n",
       "2      EVER          Juerg P. Marmet  Switzerland   M   28  Yes  No  Nepal   \n",
       "3      EVER            Ernst Schmied  Switzerland   M   31  Yes  No  Nepal   \n",
       "4      EVER       Adolf (Dolf) Reist  Switzerland   M   35  Yes  No  Nepal   \n",
       "...     ...                      ...          ...  ..  ...  ...  ..    ...   \n",
       "10179  EVER              Xiao-Lin Li        China   M   35  Yes  No  China   \n",
       "10180  EVER               Xin-Guo Li        China   M  NaN  Yes  No  China   \n",
       "10181  EVER                 Ping Liu        China   F   39  Yes  No  China   \n",
       "10182  EVER                  Ying Ma        China   F   42  Yes  No  China   \n",
       "10183  EVER              Zhi-Gang Ru        China   M   35  Yes  No  China   \n",
       "\n",
       "       Year Season Month Day   Time  \n",
       "0      1953    Spr   May  29  11:30  \n",
       "1      1953    Spr   May  29  11:30  \n",
       "2      1956    Spr   May  23  14:00  \n",
       "3      1956    Spr   May  23  14:00  \n",
       "4      1956    Spr   May  24  11:00  \n",
       "...     ...    ...   ...  ..    ...  \n",
       "10179  2020    Spr   May  28    NaN  \n",
       "10180  2020    Spr   May  28    NaN  \n",
       "10181  2020    Spr   May  28    NaN  \n",
       "10182  2020    Spr   May  28    NaN  \n",
       "10183  2020    Spr   May  28    NaN  \n",
       "\n",
       "[10184 rows x 13 columns]"
      ]
     },
     "execution_count": 33,
     "metadata": {},
     "output_type": "execute_result"
    }
   ],
   "source": [
    "cleaning_dataframe(ascensos_everest)"
   ]
  },
  {
   "cell_type": "code",
   "execution_count": 34,
   "id": "2e44ac9d",
   "metadata": {},
   "outputs": [
    {
     "data": {
      "text/plain": [
       "array([39, 33, 28, 31, 35, 27, 25, 24, 26, 34, 32, 36, 42, 23, 'NaN', 30,\n",
       "       29, 37, 21, 17, 41, 18, 22, 46, 49, 38, 50, 48, 44, 40, 47, 55, 45,\n",
       "       43, 20, 19, 52, 60, 51, 56, 57, 53, 58, 54, 63, 61, 16, 62, 64, 65,\n",
       "       59, 70, 15, 69, 66, 71, 68, 76, 75, 67, 13, 73, 80, 72],\n",
       "      dtype=object)"
      ]
     },
     "execution_count": 34,
     "metadata": {},
     "output_type": "execute_result"
    }
   ],
   "source": [
    "df_final.Age.unique()"
   ]
  },
  {
   "cell_type": "code",
   "execution_count": 35,
   "id": "1c0ef7e0",
   "metadata": {},
   "outputs": [],
   "source": [
    "df_final.to_csv(\"Data/ascensos_everest_final.csv\")"
   ]
  },
  {
   "cell_type": "code",
   "execution_count": null,
   "id": "ce92166b",
   "metadata": {},
   "outputs": [],
   "source": []
  },
  {
   "cell_type": "code",
   "execution_count": null,
   "id": "2900ce70",
   "metadata": {},
   "outputs": [],
   "source": []
  }
 ],
 "metadata": {
  "kernelspec": {
   "display_name": "ironhack",
   "language": "python",
   "name": "ironhack"
  },
  "language_info": {
   "codemirror_mode": {
    "name": "ipython",
    "version": 3
   },
   "file_extension": ".py",
   "mimetype": "text/x-python",
   "name": "python",
   "nbconvert_exporter": "python",
   "pygments_lexer": "ipython3",
   "version": "3.8.11"
  }
 },
 "nbformat": 4,
 "nbformat_minor": 5
}
